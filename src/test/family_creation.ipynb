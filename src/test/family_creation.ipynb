{
 "cells": [
  {
   "cell_type": "code",
   "execution_count": 1,
   "metadata": {},
   "outputs": [],
   "source": [
    "import sys\n",
    "import os\n",
    "sys.path.append(os.path.abspath(os.path.join('../', 'people')))"
   ]
  },
  {
   "cell_type": "code",
   "execution_count": 2,
   "metadata": {},
   "outputs": [],
   "source": [
    "from utilities import DataGenerator\n",
    "from person import Person\n",
    "import random\n",
    "\n",
    "class Family():\n",
    "    def __init__(self, generator: DataGenerator, family_root: Person):\n",
    "        self.generator = generator\n",
    "        self.family_root = family_root\n",
    "        self.relations = {\"family_root\": family_root, \"partner\": None, \"children\": []}\n",
    "    \n",
    "    def add_partner(self, partner: Person | None = None):\n",
    "        if partner:\n",
    "            self.relations[\"partner\"] = partner\n",
    "        else:\n",
    "            self.relations[\"partner\"] = Person(\n",
    "                generator=self.generator,\n",
    "                age=self.generator.get_age(similar_to=self.family_root.age, n=2),\n",
    "                gender='F' if self.family_root.gender == 'M' else 'M',\n",
    "                city=self.generator.get_city(self.family_root.city)\n",
    "            )\n",
    "    \n",
    "    def add_child(self):\n",
    "        \"\"\"Aggiunge un figlio con età opzionale.\"\"\"\n",
    "        parent_ages = []\n",
    "        if self.family_root:\n",
    "            parent_ages.append(self.family_root.age)\n",
    "        if self.relations[\"partner\"]:\n",
    "            parent_ages.append(self.relations[\"partner\"].age)\n",
    "        parent_age = min(parent_ages) if parent_ages else None\n",
    "        parent_age = int(parent_age) if parent_age else None\n",
    "        \n",
    "        age = self.generator.get_age(similar_to=parent_age - 20)\n",
    "        \n",
    "        while any(child.age == age for child in self.relations[\"children\"]):\n",
    "            age += 2\n",
    "        \n",
    "        child = Person(\n",
    "            generator=self.generator,\n",
    "            age=age,\n",
    "            city=self.family_root.city\n",
    "        )\n",
    "        self.relations[\"children\"].append(child)\n",
    "    \n",
    "    def create_family(self, partner: Person | None = None, n_children_max: int = 3):\n",
    "        self.add_partner(partner)\n",
    "        n_children = random.randint(0, n_children_max)\n",
    "        for _ in range(n_children):\n",
    "            self.add_child()\n",
    "    \n",
    "    def __str__(self):\n",
    "        family_root_str = f\"Family_root: {self.family_root}\" if self.family_root else \"No family_root\"\n",
    "        partner_str = f\"Partner: {self.relations['partner']}\" if self.relations.get('partner', None) else \"No partner\"\n",
    "        children_str = \"\\n\".join([f\"Child: {child}\" for child in self.relations[\"children\"]])\n",
    "        return f\"{family_root_str}\\n{partner_str}\\nChildren:\\n{children_str}\""
   ]
  },
  {
   "cell_type": "code",
   "execution_count": 3,
   "metadata": {},
   "outputs": [
    {
     "name": "stdout",
     "output_type": "stream",
     "text": [
      "\u001b[1;33m[DataGenerator]\u001b[0m: Initializing data generator\n",
      "\u001b[1;32m[DataGenerator]\u001b[0m: Data are ready\n",
      "Family_root: Fernando Manso, 45 years old (M)\n",
      "Born in VIBO VALENTIA (F537) in Calabria (Sud)\n",
      "on 1978-12-27\n",
      "CF: MNSFNN78T27F537V\n",
      "Partner: Elettra Busett, 35 years old (F)\n",
      "Born in CREMONA (D150) in Lombardia (Nord-ovest)\n",
      "on 1989-01-02\n",
      "CF: BSTLTR89A02D150N\n",
      "Children:\n",
      "Child: Cinzia Bizarri, 14 years old (F)\n",
      "Born in VIBO VALENTIA (F537) in Calabria (Sud)\n",
      "on 2010-06-18\n",
      "CF: BZRCNZ10H18F537Z\n",
      "Child: Paride Alescio, 15 years old (M)\n",
      "Born in VIBO VALENTIA (F537) in Calabria (Sud)\n",
      "on 2008-11-18\n",
      "CF: LSCPRD08S18F537C\n"
     ]
    }
   ],
   "source": [
    "from utilities import AgeGroup\n",
    "\n",
    "generator = DataGenerator()\n",
    "father = Person(generator=generator, gender='M', age=generator.get_age(group=AgeGroup.MIDDLE_AGED_ADULT))\n",
    "mother = Person(generator=generator, gender='F', age=generator.get_age(similar_to=father.age, n=2))\n",
    "family = Family(generator=generator, family_root=father)\n",
    "family.add_partner(partner=mother)\n",
    "family.add_child()\n",
    "family.add_child()\n",
    "print(family)"
   ]
  }
 ],
 "metadata": {
  "kernelspec": {
   "display_name": "base",
   "language": "python",
   "name": "python3"
  },
  "language_info": {
   "codemirror_mode": {
    "name": "ipython",
    "version": 3
   },
   "file_extension": ".py",
   "mimetype": "text/x-python",
   "name": "python",
   "nbconvert_exporter": "python",
   "pygments_lexer": "ipython3",
   "version": "3.11.7"
  }
 },
 "nbformat": 4,
 "nbformat_minor": 2
}
