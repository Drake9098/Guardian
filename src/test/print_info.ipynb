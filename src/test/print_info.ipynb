{
 "cells": [
  {
   "cell_type": "code",
   "execution_count": 1,
   "metadata": {},
   "outputs": [],
   "source": [
    "import sys\n",
    "import os\n",
    "sys.path.append(os.path.abspath(os.path.join('../', 'people')))"
   ]
  },
  {
   "cell_type": "markdown",
   "metadata": {},
   "source": [
    "# Test 1\n",
    "Genero N persone e stampo i loro dato"
   ]
  },
  {
   "cell_type": "code",
   "execution_count": 2,
   "metadata": {},
   "outputs": [
    {
     "name": "stdout",
     "output_type": "stream",
     "text": [
      "\u001b[1;33m[DataGenerator]\u001b[0m: Initializing data generator\n",
      "\u001b[1;32m[DataGenerator]\u001b[0m: Data are ready\n",
      "Gastone Molé, 22 years old (M)\n",
      "Born in VIBO VALENTIA (F537) in Calabria (Sud)\n",
      "on 2002-08-22\n",
      "CF: MLOGTN02M22F537J\n",
      "\n",
      "Monia Spanò, 29 years old (F)\n",
      "Born in CAGLIARI (B354) in Sardegna (IsoleSar)\n",
      "on 1995-03-10\n",
      "CF: SPNMNO95C10B354S\n",
      "\n",
      "Achille Montalti, 14 years old (M)\n",
      "Born in BOLOGNA (A944) in Emilia-Romagna (Nord-est)\n",
      "on 2010-08-12\n",
      "CF: MNTCLL10M12A944Q\n",
      "\n"
     ]
    }
   ],
   "source": [
    "from person import Person\n",
    "from utilities import DataGenerator\n",
    "\n",
    "generator = DataGenerator()\n",
    "\n",
    "N = 3\n",
    "people = [Person(generator) for _ in range(N)]\n",
    "\n",
    "for p in people:\n",
    "    print(p)\n",
    "    print()"
   ]
  },
  {
   "cell_type": "markdown",
   "metadata": {},
   "source": [
    "# Test 2\n",
    "Stampo i dati di una persona generata passando i dati come argomento"
   ]
  },
  {
   "cell_type": "code",
   "execution_count": 4,
   "metadata": {},
   "outputs": [
    {
     "name": "stdout",
     "output_type": "stream",
     "text": [
      "Giuseppe Bellamacina, 22 years old (M)\n",
      "Born in CATANIA (C351) in Sicilia (IsoleSic)\n",
      "on 2002-06-24\n",
      "CF: BLLGPP02H24C351G\n"
     ]
    }
   ],
   "source": [
    "from utilities import Date, City, Age\n",
    "\n",
    "me = Person(generator, 'M', Age(22, None), Date(24, 6, 2002), 'Giuseppe', 'Bellamacina', City('IsoleSic','Sicilia','CATANIA', 'C351'))\n",
    "print(me)"
   ]
  }
 ],
 "metadata": {
  "kernelspec": {
   "display_name": "base",
   "language": "python",
   "name": "python3"
  },
  "language_info": {
   "codemirror_mode": {
    "name": "ipython",
    "version": 3
   },
   "file_extension": ".py",
   "mimetype": "text/x-python",
   "name": "python",
   "nbconvert_exporter": "python",
   "pygments_lexer": "ipython3",
   "version": "3.11.7"
  }
 },
 "nbformat": 4,
 "nbformat_minor": 2
}
