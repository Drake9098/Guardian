{
 "cells": [
  {
   "cell_type": "code",
   "execution_count": 1,
   "metadata": {},
   "outputs": [],
   "source": [
    "import sys\n",
    "import os\n",
    "sys.path.append(os.path.abspath(os.path.join('../', 'people')))"
   ]
  },
  {
   "cell_type": "markdown",
   "metadata": {},
   "source": [
    "# Test 1\n",
    "Genero N persone e stampo i loro dato"
   ]
  },
  {
   "cell_type": "code",
   "execution_count": 2,
   "metadata": {},
   "outputs": [
    {
     "name": "stdout",
     "output_type": "stream",
     "text": [
      "\u001b[1;33m[DataGenerator]\u001b[0m: Initializing data generator\n",
      "\u001b[1;32m[DataGenerator]\u001b[0m: Data are ready\n",
      "Paride Mastantuoni, 32 years old (M)\n",
      "Born in GENOVA (D969) in Liguria (Nord-ovest)\n",
      "on 14/11/1991\n",
      "CF: MSTPRD91S14D969P\n",
      "\n",
      "Vicenza Accursi, 16 years old (F)\n",
      "Born in MACERATA (E783) in Marche (Centro)\n",
      "on 08/12/2007\n",
      "CF: CCRVNZ07T08E783C\n",
      "\n",
      "Noemi Idino, 47 years old (F)\n",
      "Born in NAPOLI (F839) in Campania (Sud)\n",
      "on 19/07/1977\n",
      "CF: DNINMO77L19F839A\n",
      "\n"
     ]
    }
   ],
   "source": [
    "from person import Person\n",
    "from utilities import DataGenerator\n",
    "\n",
    "generator = DataGenerator()\n",
    "\n",
    "N = 3\n",
    "people = [Person(generator) for _ in range(N)]\n",
    "\n",
    "for p in people:\n",
    "    print(p)\n",
    "    print()"
   ]
  },
  {
   "cell_type": "markdown",
   "metadata": {},
   "source": [
    "# Test 2\n",
    "Stampo i dati di una persona generata passando i dati come argomento"
   ]
  },
  {
   "cell_type": "code",
   "execution_count": 3,
   "metadata": {},
   "outputs": [
    {
     "name": "stdout",
     "output_type": "stream",
     "text": [
      "Giuseppe Bellamacina, 22 years old (M)\n",
      "Born in CATANIA (C351) in Sicilia (IsoleSic)\n",
      "on 24/06/2002\n",
      "CF: BLLGPP02H24C351G\n"
     ]
    }
   ],
   "source": [
    "from utilities import Date, City\n",
    "\n",
    "me = Person(generator, 'M', 22, Date(24, 6, 2002), 'Giuseppe', 'Bellamacina', City('IsoleSic','Sicilia','CATANIA', 'C351'))\n",
    "print(me)"
   ]
  }
 ],
 "metadata": {
  "kernelspec": {
   "display_name": "base",
   "language": "python",
   "name": "python3"
  },
  "language_info": {
   "codemirror_mode": {
    "name": "ipython",
    "version": 3
   },
   "file_extension": ".py",
   "mimetype": "text/x-python",
   "name": "python",
   "nbconvert_exporter": "python",
   "pygments_lexer": "ipython3",
   "version": "3.11.7"
  }
 },
 "nbformat": 4,
 "nbformat_minor": 2
}
