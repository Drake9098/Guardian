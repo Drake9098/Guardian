{
 "cells": [
  {
   "cell_type": "code",
   "execution_count": 1,
   "metadata": {},
   "outputs": [],
   "source": [
    "import sys\n",
    "import os\n",
    "sys.path.append(os.path.abspath(os.path.join('../', 'people')))"
   ]
  },
  {
   "cell_type": "code",
   "execution_count": 2,
   "metadata": {},
   "outputs": [],
   "source": [
    "from utilities import DataGenerator, AgeGroup\n",
    "from family import Family\n",
    "from person import Person\n",
    "import random\n",
    "\n",
    "class FamilyGraph():\n",
    "    def __init__(self, generator: DataGenerator, number_of_progenitors: int, oldest_group: AgeGroup):\n",
    "        self.generator = generator\n",
    "        self.levels = []\n",
    "        self.current_level = -1\n",
    "        self.generate_progenitors(number_of_progenitors, oldest_group)\n",
    "    \n",
    "    def add_level(self):\n",
    "        self.levels.append([])\n",
    "        self.current_level += 1\n",
    "\n",
    "    def generate_progenitors(self, number_of_progenitors: int, oldest_group: AgeGroup):\n",
    "        self.add_level()\n",
    "        for i in range(number_of_progenitors):\n",
    "            p = Person(\n",
    "                self.generator,\n",
    "                age=self.generator.get_age(group=oldest_group, n=1)\n",
    "            )\n",
    "            self.levels[self.current_level].append(p)\n",
    "\n",
    "    def generate_initial_families(self, max_children: int = 10):\n",
    "        self.add_level()\n",
    "        progenitors = [p for p in self.levels[0]]\n",
    "        \n",
    "        for progenitor in progenitors:\n",
    "            family = Family(self.generator, progenitor)\n",
    "            progenitor.set_original_family(family)\n",
    "            progenitor.set_new_family(family)\n",
    "            family.create_family(n_children_max=max_children)\n",
    "            self.levels[0].append(family.get_partner())\n",
    "            family.get_partner().set_original_family(family)\n",
    "            family.get_partner().set_new_family(family)\n",
    "            self.levels[1].extend(family.get_children())\n",
    "    \n",
    "    def generate_next_level(self, max_children: int = 4):        \n",
    "        current_level_individuals = self.levels[self.current_level]\n",
    "        if not current_level_individuals:\n",
    "            return False\n",
    "        \n",
    "        min_age_group = AgeGroup.LATE_YOUTH\n",
    "\n",
    "        males = [p for p in current_level_individuals if p.gender == 'M' and p.age.group >= min_age_group]\n",
    "        females = [p for p in current_level_individuals if p.gender == 'F' and p.age.group >= min_age_group]\n",
    "        \n",
    "        if len(males) > len(females):\n",
    "            family_roots = random.sample(males, len(females))\n",
    "            potential_partners = females\n",
    "        else:\n",
    "            family_roots = random.sample(females, len(males))\n",
    "            potential_partners = males\n",
    "        \n",
    "        if not family_roots:\n",
    "            return False\n",
    "        \n",
    "        used_partners = set()\n",
    "        \n",
    "        self.add_level()\n",
    "        added_any = False\n",
    "        \n",
    "        for root in family_roots:\n",
    "            family = Family(self.generator, root)\n",
    "            \n",
    "            partner = next(\n",
    "                (p for p in potential_partners \n",
    "                if p.original_family != root.original_family and p not in used_partners), \n",
    "                None\n",
    "            )\n",
    "            \n",
    "            if partner:\n",
    "                used_partners.add(partner)\n",
    "                family.create_family(partner=partner, n_children_max=max_children)\n",
    "            else:\n",
    "                family.create_family(n_children_max=max_children, no_partner=True)\n",
    "            \n",
    "            root.set_new_family(family)\n",
    "            \n",
    "            children = family.get_children()\n",
    "            self.levels[self.current_level].extend(children)\n",
    "            \n",
    "            if children:\n",
    "                added_any = True\n",
    "        return added_any\n",
    "\n",
    "    \n",
    "    def generate_full_family_tree(self, limit_group: AgeGroup = AgeGroup.INFANT, start_max_children: int = 8):\n",
    "        self.generate_initial_families()\n",
    "        \n",
    "        while True:\n",
    "            should_continue = self.generate_next_level(max_children=start_max_children)\n",
    "            if not should_continue:\n",
    "                break\n",
    "            \n",
    "            start_max_children -= 3\n",
    "            next_level_individuals = self.levels[self.current_level]\n",
    "            avg_age = sum([individual.age.age_value for individual in next_level_individuals]) / len(next_level_individuals)\n",
    "            \n",
    "            if self.generator._get_age_group(avg_age) <= limit_group:\n",
    "                break\n",
    "        \n",
    "    def get_csv(self, filename: str):\n",
    "        with open(filename, 'w', encoding='utf-8') as f:\n",
    "            f.write(\"cf,name,last_name,birthdate,gender,city,gen1,gen2,partner_of\\n\")\n",
    "            for level, individuals in enumerate(self.levels):\n",
    "                for individual in individuals:\n",
    "                    f.write(f\"{individual.to_csv()}\\n\")"
   ]
  },
  {
   "cell_type": "code",
   "execution_count": 3,
   "metadata": {},
   "outputs": [
    {
     "name": "stdout",
     "output_type": "stream",
     "text": [
      "\u001b[1;33m[DataGenerator]\u001b[0m: Initializing data generator\n",
      "\u001b[1;32m[DataGenerator]\u001b[0m: Data are ready\n"
     ]
    }
   ],
   "source": [
    "graph = FamilyGraph(DataGenerator(), 50, AgeGroup.EARLY_LATE_ELDERLY)\n",
    "graph.generate_full_family_tree()"
   ]
  },
  {
   "cell_type": "code",
   "execution_count": 4,
   "metadata": {},
   "outputs": [
    {
     "name": "stdout",
     "output_type": "stream",
     "text": [
      "Level 0:\n",
      "Number of individuals: 100\n",
      "Level 1:\n",
      "Number of individuals: 248\n",
      "Level 2:\n",
      "Number of individuals: 445\n",
      "Level 3:\n",
      "Number of individuals: 524\n",
      "Level 4:\n",
      "Number of individuals: 64\n",
      "Total number of individuals: 1381\n"
     ]
    }
   ],
   "source": [
    "c = 0\n",
    "\n",
    "for level in graph.levels:\n",
    "    print(f\"Level {graph.levels.index(level)}:\")\n",
    "    print(f\"Number of individuals: {len(level)}\")\n",
    "    c += len(level)\n",
    "\n",
    "print(f\"Total number of individuals: {c}\")"
   ]
  },
  {
   "cell_type": "code",
   "execution_count": 5,
   "metadata": {},
   "outputs": [],
   "source": [
    "graph.get_csv(\"family_tree.csv\")"
   ]
  }
 ],
 "metadata": {
  "kernelspec": {
   "display_name": "base",
   "language": "python",
   "name": "python3"
  },
  "language_info": {
   "codemirror_mode": {
    "name": "ipython",
    "version": 3
   },
   "file_extension": ".py",
   "mimetype": "text/x-python",
   "name": "python",
   "nbconvert_exporter": "python",
   "pygments_lexer": "ipython3",
   "version": "3.11.7"
  }
 },
 "nbformat": 4,
 "nbformat_minor": 2
}
