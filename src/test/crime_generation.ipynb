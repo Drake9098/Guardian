{
 "cells": [
  {
   "cell_type": "code",
   "execution_count": null,
   "metadata": {},
   "outputs": [],
   "source": [
    "import sys\n",
    "import os\n",
    "sys.path.append(os.path.abspath(os.path.join('../', 'people')))"
   ]
  },
  {
   "cell_type": "code",
   "execution_count": null,
   "metadata": {},
   "outputs": [],
   "source": [
    "from utilities import FileReader, AgeGroup\n",
    "from person import Person\n",
    "import random\n",
    "\n",
    "class Crime:\n",
    "    def __init__(self, type, desc, score, prob):\n",
    "        self.type = type\n",
    "        self.desc = desc\n",
    "        self.score = score\n",
    "        self.prob = prob\n",
    "    \n",
    "    def __str__(self):\n",
    "        return f'{self.type}, {self.desc}, {self.score}, {self.prob}'\n",
    "\n",
    "    def __repr__(self):\n",
    "        return self.__str__()\n",
    "\n",
    "class CrimeGenerator:\n",
    "    def __init__(self, people: list[Person], crimes_file='../../data/files/crimes.csv'):\n",
    "        self.crimes = FileReader.read_csv(crimes_file, Crime)\n",
    "        self.people = self._filter_people(self._flatten(people))\n",
    "        self.assignments = self._assign_crime()\n",
    "    \n",
    "    def _flatten(self, lst):\n",
    "        return [item for sublist in lst for subsublist in sublist for item in subsublist]\n",
    "    \n",
    "    def _filter_people(self, lst):\n",
    "        return [p for p in lst if AgeGroup.LATE_TEEN <= p.age.group <= AgeGroup.EARLY_LATE_ELDERLY]\n",
    "    \n",
    "    def _assign_crime(self):\n",
    "        index = 0\n",
    "        assignments = {}\n",
    "        for p in self.people:\n",
    "            for c in self.crimes:\n",
    "                if random.random() <= c.prob:\n",
    "                    assignments[index] = (p.cf, c)\n",
    "                    index += 1\n",
    "        return assignments\n",
    "\n",
    "    def write_to_csv(self, filename=\"crimes_assign.csv\"):\n",
    "        c = 0\n",
    "        with open(filename, \"w\", encoding='utf-8') as f:\n",
    "            f.write(\"criminal,type,description,severity_score\\n\")\n",
    "            for k, v in self.assignments.items():\n",
    "                f.write(f\"{k},{v[0]},{v[1].type},{v[1].desc},{v[1].score}\\n\")\n",
    "                c += 1\n",
    "        f.close()\n",
    "        print(f\"\\33[1;34m[CarAssigner]\\33[0m: {c} cars written to {filename}\")"
   ]
  }
 ],
 "metadata": {
  "kernelspec": {
   "display_name": "base",
   "language": "python",
   "name": "python3"
  },
  "language_info": {
   "codemirror_mode": {
    "name": "ipython",
    "version": 3
   },
   "file_extension": ".py",
   "mimetype": "text/x-python",
   "name": "python",
   "nbconvert_exporter": "python",
   "pygments_lexer": "ipython3",
   "version": "3.11.7"
  }
 },
 "nbformat": 4,
 "nbformat_minor": 2
}
