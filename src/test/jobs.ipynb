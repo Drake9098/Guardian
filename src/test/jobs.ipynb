{
 "cells": [
  {
   "cell_type": "code",
   "execution_count": 1,
   "metadata": {},
   "outputs": [],
   "source": [
    "import sys\n",
    "import os\n",
    "sys.path.append(os.path.abspath(os.path.join('../', 'people')))"
   ]
  },
  {
   "cell_type": "code",
   "execution_count": 6,
   "metadata": {},
   "outputs": [
    {
     "name": "stdout",
     "output_type": "stream",
     "text": [
      "\u001b[1;33m[DataGenerator]\u001b[0m: Initializing data generator\n",
      "\u001b[1;32m[DataGenerator]\u001b[0m: Data are ready\n",
      "\u001b[1;33m[FamilyGraph]\u001b[0m: Generation started\n",
      "\u001b[1;32m[FamilyGraph]\u001b[0m: Graph generated\n",
      "\u001b[1;33m[FamilyGraph]\u001b[0m: Generation started\n",
      "\u001b[1;32m[FamilyGraph]\u001b[0m: Graph generated\n",
      "\u001b[1;33m[FamilyGraph]\u001b[0m: Generation started\n",
      "\u001b[1;32m[FamilyGraph]\u001b[0m: Graph generated\n",
      "\u001b[1;33m[FamilyGraph]\u001b[0m: Generation started\n",
      "\u001b[1;32m[FamilyGraph]\u001b[0m: Graph generated\n",
      "\u001b[1;33m[FamilyGraph]\u001b[0m: Generation started\n",
      "\u001b[1;32m[FamilyGraph]\u001b[0m: Graph generated\n",
      "\u001b[1;34m[FamilyGraph]\u001b[0m: Written 462 lines to families.csv\n",
      "\u001b[1;34m[FamilyGraph]\u001b[0m: Written 563 lines to families.csv\n",
      "\u001b[1;34m[FamilyGraph]\u001b[0m: Written 519 lines to families.csv\n",
      "\u001b[1;34m[FamilyGraph]\u001b[0m: Written 358 lines to families.csv\n",
      "\u001b[1;34m[FamilyGraph]\u001b[0m: Written 359 lines to families.csv\n"
     ]
    }
   ],
   "source": [
    "from family_graph import FamilyGraph\n",
    "from utilities import DataGenerator, AgeGroup\n",
    "import random\n",
    "\n",
    "generator = DataGenerator()\n",
    "graphs: list[FamilyGraph] = []\n",
    "\n",
    "oldest_groups = list(AgeGroup)[-5:]\n",
    "N = 5\n",
    "\n",
    "for i in range(N):\n",
    "    graphs.append(FamilyGraph(generator, 15, random.choice(oldest_groups)))\n",
    "\n",
    "for i, graph in enumerate(graphs):\n",
    "    graph.write_to_csv(filename=\"families.csv\", append=i)"
   ]
  },
  {
   "cell_type": "code",
   "execution_count": 3,
   "metadata": {},
   "outputs": [],
   "source": [
    "import random\n",
    "\n",
    "class WorkPlace:\n",
    "    def __init__(self, name, category, city):\n",
    "        self.name = name\n",
    "        self.category = category\n",
    "        self.city = city\n",
    "    \n",
    "    def __str__(self):\n",
    "        return self.name\n",
    "    \n",
    "    def __repr__(self):\n",
    "        return self.name\n",
    "\n",
    "class WorkPlaceGenerator:\n",
    "    def __init__(self, people):\n",
    "        self.people = self._filter_workers(self._flatten(people))\n",
    "        self.workplaces = self._generate_workplaces()\n",
    "        self.attended_workplaces = self._assign_workplaces()\n",
    "        \n",
    "    def _flatten(self, lst):\n",
    "        return [item for sublist in lst for subsublist in sublist for item in subsublist]\n",
    "    \n",
    "    def _filter_workers(self, lst):\n",
    "        return [p for p in lst if AgeGroup.EARLY_YOUTH <= p.age.group <= AgeGroup.LATE_LATE_SENIOR]\n",
    "    \n",
    "    def _generate_workplaces(self):\n",
    "        cities = {p.city for p in self.people}\n",
    "        categories = [\"Azienda\", \"Fabbrica\", \"Ufficio\", \"Ospedale\"]\n",
    "        templates = [\"Azienda di {0}\", \"Fabbrica di {0}\", \"Ufficio di {0}\", \"Ospedale di {0}\"]\n",
    "\n",
    "        workplaces = []\n",
    "        for city in cities:\n",
    "            for category, template in zip(categories, templates):\n",
    "                workplace_name = template.format(city.name)\n",
    "                workplaces.append(WorkPlace(workplace_name, category, city.name))\n",
    "        return workplaces\n",
    "    \n",
    "    def _assign_workplaces(self):\n",
    "        attended = {}\n",
    "        for p in self.people:\n",
    "            workplace = None\n",
    "            city_workplaces = [w for w in self.workplaces if w.city == p.city.name]\n",
    "            \n",
    "            if AgeGroup.EARLY_YOUTH <= p.age.group <= AgeGroup.LATE_YOUNG_ADULT:\n",
    "                if p.age.group == AgeGroup.EARLY_YOUTH and random.random() <= 0.3:\n",
    "                    workplace = random.choice(city_workplaces)\n",
    "                elif p.age.group == AgeGroup.LATE_YOUTH and random.random() <= 0.5:\n",
    "                    workplace = random.choice(city_workplaces)\n",
    "                elif p.age.group == AgeGroup.EARLY_YOUNG_ADULT and random.random() <= 0.3:\n",
    "                    workplace = random.choice(city_workplaces)\n",
    "                elif p.age.group == AgeGroup.LATE_YOUNG_ADULT and random.random() <= 0.1:\n",
    "                    workplace = random.choice(city_workplaces)\n",
    "            elif AgeGroup.EARLY_MIDDLE_AGED_ADULT <= p.age.group <= AgeGroup.EARLY_LATE_SENIOR:\n",
    "                workplace = random.choice(city_workplaces)\n",
    "                \n",
    "            if workplace:\n",
    "                attended[workplace] = attended.get(workplace, []) + [p.cf]\n",
    "        return attended\n",
    "    \n",
    "    def write_to_csv(self, filename=\"workplaces.csv\"):\n",
    "        c = 0\n",
    "        with open(filename, \"w\", encoding='utf-8') as f:\n",
    "            f.write(\"workplace,category,city\\n\")\n",
    "            for k, v in self.attended_workplaces.items():\n",
    "                f.write(f\"{k.name},{k.category},{k.city}\\n\")\n",
    "                c += 1\n",
    "        f.close()\n",
    "        print(f\"{c} workplaces written to {filename}\")\n",
    "    \n",
    "    def write_attendance_to_csv(self, filename=\"workplace_attendance.csv\"):\n",
    "        c = 0\n",
    "        with open(filename, \"w\", encoding='utf-8') as f:\n",
    "            f.write(\"workplace,cf\\n\")\n",
    "            for k, v in self.attended_workplaces.items():\n",
    "                for cf in v:\n",
    "                    f.write(f\"{k.name},{cf}\\n\")\n",
    "                    c += 1\n",
    "        f.close()\n",
    "        print(f\"{c} attendances written to {filename}\")"
   ]
  },
  {
   "cell_type": "code",
   "execution_count": 4,
   "metadata": {},
   "outputs": [],
   "source": [
    "listona = [graph.levels for graph in graphs]\n",
    "w = WorkPlaceGenerator(listona)"
   ]
  },
  {
   "cell_type": "code",
   "execution_count": 5,
   "metadata": {},
   "outputs": [
    {
     "name": "stdout",
     "output_type": "stream",
     "text": [
      "262 workplaces written to workplaces.csv\n",
      "1440 attendances written to workplace_attendance.csv\n"
     ]
    }
   ],
   "source": [
    "w.write_to_csv()\n",
    "w.write_attendance_to_csv()"
   ]
  }
 ],
 "metadata": {
  "kernelspec": {
   "display_name": "base",
   "language": "python",
   "name": "python3"
  },
  "language_info": {
   "codemirror_mode": {
    "name": "ipython",
    "version": 3
   },
   "file_extension": ".py",
   "mimetype": "text/x-python",
   "name": "python",
   "nbconvert_exporter": "python",
   "pygments_lexer": "ipython3",
   "version": "3.11.7"
  }
 },
 "nbformat": 4,
 "nbformat_minor": 2
}
