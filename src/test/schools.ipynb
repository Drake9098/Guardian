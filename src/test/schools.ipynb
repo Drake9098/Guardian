{
 "cells": [
  {
   "cell_type": "code",
   "execution_count": 1,
   "metadata": {},
   "outputs": [],
   "source": [
    "import sys\n",
    "import os\n",
    "sys.path.append(os.path.abspath(os.path.join('../', 'people')))"
   ]
  },
  {
   "cell_type": "code",
   "execution_count": 2,
   "metadata": {},
   "outputs": [
    {
     "name": "stdout",
     "output_type": "stream",
     "text": [
      "\u001b[1;33m[DataGenerator]\u001b[0m: Initializing data generator\n",
      "\u001b[1;32m[DataGenerator]\u001b[0m: Data are ready\n",
      "\u001b[1;33m[FamilyGraph]\u001b[0m: Generation started\n",
      "\u001b[1;32m[FamilyGraph]\u001b[0m: Graph generated\n",
      "\u001b[1;33m[FamilyGraph]\u001b[0m: Generation started\n",
      "\u001b[1;32m[FamilyGraph]\u001b[0m: Graph generated\n",
      "\u001b[1;33m[FamilyGraph]\u001b[0m: Generation started\n",
      "\u001b[1;32m[FamilyGraph]\u001b[0m: Graph generated\n",
      "\u001b[1;33m[FamilyGraph]\u001b[0m: Generation started\n",
      "\u001b[1;32m[FamilyGraph]\u001b[0m: Graph generated\n",
      "\u001b[1;33m[FamilyGraph]\u001b[0m: Generation started\n",
      "\u001b[1;32m[FamilyGraph]\u001b[0m: Graph generated\n",
      "\u001b[1;34m[FamilyGraph]\u001b[0m: Written 443 lines to families.csv\n",
      "\u001b[1;34m[FamilyGraph]\u001b[0m: Written 402 lines to families.csv\n",
      "\u001b[1;34m[FamilyGraph]\u001b[0m: Written 399 lines to families.csv\n",
      "\u001b[1;34m[FamilyGraph]\u001b[0m: Written 532 lines to families.csv\n",
      "\u001b[1;34m[FamilyGraph]\u001b[0m: Written 411 lines to families.csv\n"
     ]
    }
   ],
   "source": [
    "from family_graph import FamilyGraph\n",
    "from utilities import DataGenerator, AgeGroup\n",
    "import random\n",
    "\n",
    "generator = DataGenerator()\n",
    "graphs: list[FamilyGraph] = []\n",
    "\n",
    "oldest_groups = list(AgeGroup)[-5:]\n",
    "N = 5\n",
    "\n",
    "for i in range(N):\n",
    "    graphs.append(FamilyGraph(generator, 15, random.choice(oldest_groups)))\n",
    "\n",
    "for i, graph in enumerate(graphs):\n",
    "    graph.write_to_csv(filename=\"families.csv\", append=i)"
   ]
  },
  {
   "cell_type": "code",
   "execution_count": 3,
   "metadata": {},
   "outputs": [],
   "source": [
    "import random\n",
    "\n",
    "class School:\n",
    "    def __init__(self, name, category, city):\n",
    "        self.name = name\n",
    "        self.category = category\n",
    "        self.city = city\n",
    "    \n",
    "    def __str__(self):\n",
    "        return self.name\n",
    "    \n",
    "    def __repr__(self):\n",
    "        return self.name\n",
    "\n",
    "class SchoolGenerator:\n",
    "    def __init__(self, people):\n",
    "        self.people = self._filter_scholars(self._flatten(people))\n",
    "        self.schools = self._generate_school()\n",
    "        self.attended_schools = self._assign_school()\n",
    "        \n",
    "    def _flatten(self, lst):\n",
    "        return [item for sublist in lst for subsublist in sublist for item in subsublist]\n",
    "    \n",
    "    def _filter_scholars(self, lst):\n",
    "        return [p for p in lst if AgeGroup.MIDDLE_CHILD <= p.age.group <= AgeGroup.LATE_YOUNG_ADULT]\n",
    "    \n",
    "    def _generate_school(self):\n",
    "        cities = {p.city for p in self.people}\n",
    "        categories = [\"Scuola Elementare\", \"Scuola Media\", \"Scuola Superiore\", \"Università\"]\n",
    "        templates = [\"Scuola Elementare di {0}\", \"Scuola Media di {0}\", \"Scuola Superiore di {0}\", \"Università di {0}\"]\n",
    "\n",
    "        schools = []\n",
    "        for city in cities:\n",
    "            for category, template in zip(categories, templates):\n",
    "                school_name = template.format(city.name)\n",
    "                schools.append(School(school_name, category, city.name))\n",
    "        return schools\n",
    "    \n",
    "    def _assign_school(self):\n",
    "        attended = {}\n",
    "        for p in self.people:\n",
    "            school = None\n",
    "            city_schools = [s for s in self.schools if s.city == p.city.name]\n",
    "            \n",
    "            if p.age.group == AgeGroup.MIDDLE_CHILD:\n",
    "                school = next((s for s in city_schools if s.category == \"Scuola Elementare\"), None)\n",
    "            elif p.age.group == AgeGroup.LATE_CHILD:\n",
    "                school = next((s for s in city_schools if s.category == \"Scuola Media\"), None)\n",
    "            elif AgeGroup.EARLY_TEEN <= p.age.group <= AgeGroup.LATE_TEEN:\n",
    "                school = next((s for s in city_schools if s.category == \"Scuola Superiore\"), None)\n",
    "            else:\n",
    "                university = next((s for s in city_schools if s.category == \"Università\"), None)\n",
    "                if university:\n",
    "                    if p.age.group == AgeGroup.EARLY_YOUTH and random.random() <= 0.7:\n",
    "                        school = university\n",
    "                    elif p.age.group == AgeGroup.LATE_YOUTH and random.random() <= 0.5:\n",
    "                        school = university\n",
    "                    elif p.age.group == AgeGroup.EARLY_YOUNG_ADULT and random.random() <= 0.3:\n",
    "                        school = university\n",
    "                    elif random.random() <= 0.1:\n",
    "                        school = university\n",
    "                        \n",
    "            if school:\n",
    "                attended[school] = attended.get(school, []) + [p.cf]\n",
    "        return attended\n",
    "    \n",
    "    def write_to_csv(self, filename=\"schools.csv\"):\n",
    "        c = 0\n",
    "        with open(filename, \"w\", encoding='utf-8') as f:\n",
    "            f.write(\"school,category,city\\n\")\n",
    "            for k, v in self.attended_schools.items():\n",
    "                f.write(f\"{k.name},{k.category},{k.city}\\n\")\n",
    "                c += 1\n",
    "        f.close()\n",
    "        print(f\"{c} schools written to {filename}\")\n",
    "    \n",
    "    def write_attendance_to_csv(self, filename=\"school_attendance.csv\"):\n",
    "        c = 0\n",
    "        with open(filename, \"w\", encoding='utf-8') as f:\n",
    "            f.write(\"school,cf\\n\")\n",
    "            for k, v in self.attended_schools.items():\n",
    "                for cf in v:\n",
    "                    f.write(f\"{k.name},{cf}\\n\")\n",
    "                    c += 1\n",
    "        f.close()\n",
    "        print(f\"{c} attendances written to {filename}\")\n"
   ]
  },
  {
   "cell_type": "code",
   "execution_count": 4,
   "metadata": {},
   "outputs": [],
   "source": [
    "listona = [graph.levels for graph in graphs]\n",
    "s = SchoolGenerator(listona)"
   ]
  },
  {
   "cell_type": "code",
   "execution_count": 5,
   "metadata": {},
   "outputs": [
    {
     "name": "stdout",
     "output_type": "stream",
     "text": [
      "114 schools written to schools.csv\n",
      "773 attendances written to school_attendance.csv\n"
     ]
    }
   ],
   "source": [
    "s.write_to_csv()\n",
    "s.write_attendance_to_csv()"
   ]
  }
 ],
 "metadata": {
  "kernelspec": {
   "display_name": "base",
   "language": "python",
   "name": "python3"
  },
  "language_info": {
   "codemirror_mode": {
    "name": "ipython",
    "version": 3
   },
   "file_extension": ".py",
   "mimetype": "text/x-python",
   "name": "python",
   "nbconvert_exporter": "python",
   "pygments_lexer": "ipython3",
   "version": "3.11.7"
  }
 },
 "nbformat": 4,
 "nbformat_minor": 2
}
